{
 "cells": [
  {
   "cell_type": "markdown",
   "id": "65d6fd01",
   "metadata": {},
   "source": [
    "# Limpieza inicial de las tablas"
   ]
  },
  {
   "cell_type": "code",
   "execution_count": null,
   "id": "aaf1cba2",
   "metadata": {},
   "outputs": [],
   "source": [
    "import re\n",
    "import pandas as pd\n",
    "import numpy as np\n",
    "import os\n",
    "import matplotlib.pyplot as plt\n",
    "import seaborn as sns\n"
   ]
  },
  {
   "cell_type": "code",
   "execution_count": null,
   "id": "776c0264",
   "metadata": {},
   "outputs": [],
   "source": [
    "# ---------------------------\n",
    "# FUNCIONES AUXILIARES\n",
    "# ---------------------------\n",
    "def limpiar_dataframe(df):\n",
    "    \"\"\"Estandariza nombres de columnas y reemplaza valores nulos o inválidos.\"\"\"\n",
    "    df.columns = [str(col).strip().lower().replace(\" \", \"_\") for col in df.columns]\n",
    "    df.replace([\"s/d\", \"S/D\", \"-\", \"\", \" \"], np.nan, inplace=True)\n",
    "    return df\n",
    "\n",
    "def convertir_a_numerico(df, columnas_excluidas=[]):\n",
    "    for col in df.columns:\n",
    "        if col not in columnas_excluidas:\n",
    "            df[col] = pd.to_numeric(df[col], errors='coerce')\n",
    "    return df\n",
    "\n",
    "# ---------------------------\n",
    "# CARGA DE DATOS\n",
    "# ---------------------------\n",
    "\n",
    "# 1. Focos de calor por jurisdicción y año\n",
    "archivo = os.path.join(\"datasets\",\"Cantidad de focos de calor registrados por jurisdicción y año.xlsx\")\n",
    "focos = pd.read_excel(archivo)\n",
    "focos = limpiar_dataframe(focos)\n",
    "focos = convertir_a_numerico(focos, columnas_excluidas=[\"jurisdicción\"])\n",
    "\n",
    "# 2. Incendios por provincia anualizados\n",
    "\n",
    "archivo = os.path.join(\"datasets\",\"Incendios por provincia.xlsx\")\n",
    "incendios = pd.read_excel(archivo)\n",
    "incendios = limpiar_dataframe(incendios)\n",
    "incendios = convertir_a_numerico(incendios, columnas_excluidas=[\"jurisdicción\", \"año\"])\n",
    "\n",
    "# 3. Estadísticas normales (múltiples hojas)\n",
    "archivo = os.path.join(\"datasets\",\"Estadísticas normales Datos abiertos 1991-2020- TODAS HOJAS.xlsx\")\n",
    "estadisticas = pd.read_excel(archivo, sheet_name=None)\n",
    "estadisticas_limpias = {}\n",
    "for hoja, df in estadisticas.items():\n",
    "    df = limpiar_dataframe(df)\n",
    "    df = convertir_a_numerico(df)\n",
    "    estadisticas_limpias[hoja] = df\n",
    "\n",
    "# 4. Densidad de población por cuenca\n",
    "\n",
    "archivo = os.path.join(\"datasets\",\"Densidad de población por cuenca.xlsx\")\n",
    "poblacion = pd.read_excel(archivo)\n",
    "poblacion = limpiar_dataframe(poblacion)\n",
    "poblacion = convertir_a_numerico(poblacion, columnas_excluidas=[\"provincia\"])\n",
    "\n",
    "# 5. Superficie afectada\n",
    "archivo = os.path.join(\"datasets\",\"Superficie afectada por incendios reportados, por jurisdicción.xlsx\")\n",
    "superficie_abs = pd.read_excel(archivo, sheet_name=\"rii_c_hectareas_incendios_prov_\")\n",
    "superficie_pct = pd.read_excel(archivo, sheet_name=\"Porcentaje de superficie afecta\")\n",
    "\n",
    "superficie_abs = limpiar_dataframe(superficie_abs)\n",
    "superficie_abs = convertir_a_numerico(superficie_abs, columnas_excluidas=[\"jurisdicción\"])\n",
    "\n",
    "superficie_pct = limpiar_dataframe(superficie_pct)\n",
    "superficie_pct[\"%_suma_de_hectareas\"] = pd.to_numeric(superficie_pct[\"%_suma_de_hectareas\"], errors='coerce')\n",
    "\n",
    "# 6. Supertabla\n",
    "archivo = os.path.join(\"datasets\",\"Supertabla.xlsx\")\n",
    "supertabla = pd.read_excel(archivo, sheet_name=None)\n",
    "df1 = limpiar_dataframe(supertabla['hoja1'])\n",
    "df2 = limpiar_dataframe(supertabla['hoja2'])\n",
    "\n",
    "df1 = convertir_a_numerico(df1, columnas_excluidas=[\"jurisdicción\"])\n",
    "df2 = convertir_a_numerico(df2, columnas_excluidas=[\"jurisdicción\", \"combustible\"])\n",
    "\n",
    "#7. Incendios por mes\n",
    "archivo = os.path.join(\"datasets\",\"Cantidad de incendios reportados por mes.xlsx\")\n",
    "incendios_mes = pd.read_excel(archivo)\n",
    "\n",
    "incendios_mes = limpiar_dataframe(incendios_mes)\n",
    "incendios_mes = convertir_a_numerico(incendios_mes, columnas_excluidas=[\"mes\"])\n",
    "\n",
    "\n",
    "#8. Focos por mes por jurisdiccion\n",
    "archivo = os.path.join(\"datasets\", \"cantidad_focos_mes_jurisdiccion.xlsx\")\n",
    "focos_mes = pd.read_excel(archivo)\n",
    "\n",
    "focos_mes = limpiar_dataframe(focos_mes)\n",
    "focos_mes = convertir_a_numerico(focos_mes, columnas_excluidas=[\"jurisdicción\"])\n",
    "\n",
    "\n",
    "# ---------------------------\n",
    "# REVISIÓN POST-LIMPIEZA\n",
    "# ---------------------------\n",
    "print(\"✔ Limpieza completada.\")\n",
    "print(\"Dimensiones focos:\", focos.shape)\n",
    "print(\"Dimensiones incendios:\", incendios.shape)\n",
    "print(\"Dimensiones población:\", poblacion.shape)\n",
    "print(\"Dimensiones superficie afectada:\", superficie_abs.shape)\n",
    "print(\"Dimensiones supertabla_1:\", df1.shape)\n",
    "print(\"Dimensiones supertabla_2:\", df2.shape)\n",
    "print(\"Dimensiones incendios por mes:\", incendios_mes.shape)\n",
    "print(\"Dimensiones Focos por mes:\", focos_mes.shape)\n",
    "incendios_mes\n"
   ]
  },
  {
   "cell_type": "markdown",
   "id": "f5fae26f",
   "metadata": {},
   "source": [
    "# Analisis exploratorio de los Datos"
   ]
  },
  {
   "cell_type": "code",
   "execution_count": null,
   "id": "8f44deee",
   "metadata": {},
   "outputs": [],
   "source": [
    "# Estilo gráfico y orden de meses\n",
    "sns.set_theme(style=\"whitegrid\", palette=\"OrRd\")  # estilo limpio\n",
    "plt.rcParams[\"figure.figsize\"] = (10, 6)\n",
    "\n",
    "orden_meses = [\n",
    "    'enero', 'febrero', 'marzo', 'abril', 'mayo', 'junio',\n",
    "    'julio', 'agosto', 'septiembre', 'octubre', 'noviembre', 'diciembre'\n",
    "]"
   ]
  },
  {
   "cell_type": "markdown",
   "id": "2c3667cd",
   "metadata": {},
   "source": [
    "### Distribucion de focos de calor por jurisdiccion ( En promedio )"
   ]
  },
  {
   "cell_type": "code",
   "execution_count": null,
   "id": "ae10d014",
   "metadata": {},
   "outputs": [],
   "source": [
    "promedio_anios = focos.columns[-1]\n",
    "focos_ultimo = focos[[\"jurisdicción\", promedio_anios]].sort_values(by=promedio_anios, ascending=False)\n",
    "\n",
    "plt.figure()\n",
    "sns.barplot(data=focos_ultimo, x=promedio_anios, y=\"jurisdicción\", palette=\"Reds_r\")\n",
    "plt.title(f\"Focos de calor por jurisdicción - {promedio_anios}\")\n",
    "plt.xlabel(\"Cantidad de focos\")\n",
    "plt.ylabel(\"Jurisdicción\")\n",
    "plt.tight_layout()\n",
    "plt.show()\n"
   ]
  },
  {
   "cell_type": "markdown",
   "id": "e490bf87",
   "metadata": {},
   "source": [
    "###  Evolución temporal de focos de calor a nivel nacional"
   ]
  },
  {
   "cell_type": "code",
   "execution_count": null,
   "id": "f2654215",
   "metadata": {},
   "outputs": [],
   "source": [
    "# Excluimos la columna \"jurisdicción\" y la última columna del DataFrame\n",
    "columnas_a_sumar = focos.columns[1:-1]  # Seleccionamos todas las columnas excepto la primera (\"jurisdicción\") y la última(\"Promedio\")\n",
    "\n",
    "# Sumamos únicamente las columnas numéricas de los años\n",
    "focos_anual = (\n",
    "    focos[columnas_a_sumar]  # Nos quedamos solo con las columnas correspondientes a años\n",
    "    .sum()  # Sumamos los valores por cada año\n",
    "    .reset_index()  # Convertimos el índice a columna para reestructurar el DataFrame\n",
    ")\n",
    "\n",
    "# Renombramos las columnas\n",
    "focos_anual.columns = [\"año\", \"total_focos\"]\n",
    "\n",
    "# Quitamos el prefijo \"año_\" en caso de que los nombres contengan este prefijo\n",
    "focos_anual[\"año\"] = focos_anual[\"año\"].str.replace(\"año_\", \"\").astype(int)\n",
    "\n",
    "# Visualizamos los resultados con Seaborn\n",
    "plt.figure()\n",
    "sns.lineplot(data=focos_anual, x=\"año\", y=\"total_focos\", marker=\"o\", color=\"orangered\")\n",
    "plt.title(\"Evolución anual de focos de calor\")\n",
    "plt.xlabel(\"Año\")\n",
    "plt.ylabel(\"Total de focos de calor\")\n",
    "plt.xticks(rotation=45)\n",
    "plt.tight_layout()\n",
    "plt.show()"
   ]
  },
  {
   "cell_type": "markdown",
   "id": "a172c8f0",
   "metadata": {},
   "source": [
    "### Superficie afectada promedio por jurisdicción"
   ]
  },
  {
   "cell_type": "code",
   "execution_count": null,
   "id": "a572e4c8",
   "metadata": {},
   "outputs": [],
   "source": [
    "# Verificamos las columnas\n",
    "columnas_a_promediar = superficie_abs.columns[1:-1]  # Excluimos la primera columna (jurisdicción) y la última (promedio)\n",
    "\n",
    "# Calculamos de nuevo el promedio de superficie afectada por jurisdicción (si es necesario)\n",
    "superficie_abs[\"promedio\"] = superficie_abs[columnas_a_promediar].mean(axis=1)\n",
    "\n",
    "# Seleccionamos la columna 'promedio' para el gráfico\n",
    "superficie_media = (\n",
    "    superficie_abs.set_index(\"jurisdicción\")[\"promedio\"]  # Usamos la columna promedio\n",
    "    .sort_values(ascending=False)  # Ordenamos de mayor a menor\n",
    ")\n",
    "\n",
    "# Graficamos\n",
    "plt.figure(figsize=(10, 6))\n",
    "sns.barplot(x=superficie_media.values, y=superficie_media.index, palette=\"YlOrBr\")\n",
    "plt.title(\"Promedio de superficie afectada por jurisdicción (ha)\")\n",
    "plt.xlabel(\"Hectáreas promedio\")\n",
    "plt.ylabel(\"Jurisdicción\")\n",
    "plt.tight_layout()\n",
    "plt.show()"
   ]
  },
  {
   "cell_type": "markdown",
   "id": "9c62d33f",
   "metadata": {},
   "source": [
    "### Relación entre densidad poblacional y superficie afectada (último año)"
   ]
  },
  {
   "cell_type": "code",
   "execution_count": null,
   "id": "4ced2171",
   "metadata": {},
   "outputs": [],
   "source": [
    "# (Si la columna original se llama 'provincia' en poblacion)\n",
    "poblacion[\"jurisdicción\"] = poblacion[\"provincia\"].str.strip().str.lower()\n",
    "superficie_abs[\"jurisdicción\"] = superficie_abs[\"jurisdicción\"].str.strip().str.lower()\n",
    "\n",
    "df_comb = pd.merge(\n",
    "    poblacion, \n",
    "    superficie_abs[[\"jurisdicción\", superficie_abs.columns[-4]]], \n",
    "    on=\"jurisdicción\", \n",
    "    how=\"inner\"\n",
    ")\n",
    "\n",
    "plt.figure()\n",
    "sns.scatterplot(data=df_comb, x=\"prom_densidad_hab_km2\", y=superficie_abs.columns[-4], hue=\"jurisdicción\", palette=\"tab20\")\n",
    "plt.title(f\"Relación entre densidad poblacional y superficie afectada ({superficie_abs.columns[-4]})\")\n",
    "plt.xlabel(\"Densidad poblacional (hab/km²)\")\n",
    "plt.ylabel(\"Superficie afectada (ha)\")\n",
    "plt.legend(bbox_to_anchor=(1.05, 1), loc='upper left')\n",
    "plt.tight_layout()\n",
    "plt.show()\n"
   ]
  },
  {
   "cell_type": "markdown",
   "id": "bbdd45ca",
   "metadata": {},
   "source": [
    "## Correlaciones profundas\n",
    "* Se busca entender si hay relación estadística entre:\n",
    "\n",
    "    🔥 Focos de calor\n",
    "\n",
    "    🧯 Incendios reportados\n",
    "\n",
    "    🌾 Superficie afectada\n",
    "\n",
    "    👥 Densidad poblacional"
   ]
  },
  {
   "cell_type": "markdown",
   "id": "225ce69d",
   "metadata": {},
   "source": [
    "### Preparacion de la tabla"
   ]
  },
  {
   "cell_type": "code",
   "execution_count": null,
   "id": "cf2de8d9",
   "metadata": {},
   "outputs": [],
   "source": [
    "cols_focos = [c for c in focos.columns if c.startswith(\"año_\") or c.isdigit()]\n",
    "cols_inc = [c for c in incendios.columns if c.startswith(\"año_\") or c.isdigit()]\n",
    "cols_sup = [c for c in superficie_abs.columns if c.startswith(\"hectáreas_\") or c.isdigit()]\n",
    "cols_focos_mes = [c for c in focos_mes.columns if c in orden_meses]\n",
    "cols_inc_mes = [c for c in incendios_mes.columns if c.startswith(\"año_\") or c.isdigit()]"
   ]
  },
  {
   "cell_type": "code",
   "execution_count": null,
   "id": "973b57ba",
   "metadata": {},
   "outputs": [],
   "source": [
    "focos[\"focos_prom\"] = focos[cols_focos].mean(axis=1)\n",
    "incendios[\"incendios_prom\"] = incendios[cols_inc].mean(axis=1)\n",
    "superficie_abs = superficie_abs.rename(columns={\"promedio\": \"superficie_afectada_prom\"})\n"
   ]
  },
  {
   "cell_type": "markdown",
   "id": "93f57c0c",
   "metadata": {},
   "source": [
    "### Normalizacion de clave jurisdiccion"
   ]
  },
  {
   "cell_type": "code",
   "execution_count": null,
   "id": "594df762",
   "metadata": {},
   "outputs": [],
   "source": [
    "# Diccionario para normalizar nombres de jurisdicciones\n",
    "normalizacion_jurisdicciones = {\n",
    "    \"cordoba\": \"córdoba\",\n",
    "    \"entre rios\": \"entre ríos\",\n",
    "    \"neuquen\": \"neuquén\",\n",
    "    \"rio negro\": \"río negro\",\n",
    "    \"tucuman\": \"tucumán\",\n",
    "    \"stgo. del estero\": \"santiago del estero\",\n",
    "    \"t. del fuego\": \"tierra del fuego\"\n",
    "}\n"
   ]
  },
  {
   "cell_type": "code",
   "execution_count": null,
   "id": "9ab2ba2b",
   "metadata": {},
   "outputs": [],
   "source": [
    "def normalizar_jurisdicciones(df):\n",
    "    df[\"jurisdicción\"] = df[\"jurisdicción\"].str.strip().str.lower()\n",
    "    df[\"jurisdicción\"] = df[\"jurisdicción\"].replace(normalizacion_jurisdicciones)\n",
    "    return df\n",
    "\n",
    "# Aplicar a todos los DataFrames\n",
    "focos = normalizar_jurisdicciones(focos)\n",
    "incendios = normalizar_jurisdicciones(incendios)\n",
    "superficie_abs = normalizar_jurisdicciones(superficie_abs)\n",
    "poblacion = normalizar_jurisdicciones(poblacion)\n"
   ]
  },
  {
   "cell_type": "code",
   "execution_count": null,
   "id": "1b17b8a2",
   "metadata": {},
   "outputs": [],
   "source": [
    "df_corr = focos[[\"jurisdicción\", \"focos_prom\"]].merge(\n",
    "    incendios[[\"jurisdicción\", \"incendios_prom\"]], on=\"jurisdicción\", how=\"inner\"\n",
    ").merge(\n",
    "    superficie_abs[[\"jurisdicción\", \"superficie_afectada_prom\"]], on=\"jurisdicción\", how=\"inner\"\n",
    ").merge(\n",
    "    poblacion[[\"jurisdicción\", \"prom_densidad_hab_km2\"]], on=\"jurisdicción\", how=\"left\"\n",
    ")\n",
    "# Eliminar filas con NaN en variables críticas:\n",
    "df_corr = df_corr.dropna(subset=[\"focos_prom\", \"incendios_prom\", \"superficie_afectada_prom\", \"prom_densidad_hab_km2\"])\n"
   ]
  },
  {
   "cell_type": "code",
   "execution_count": null,
   "id": "c76b0aca",
   "metadata": {},
   "outputs": [],
   "source": [
    "corr_mat = df_corr.drop(columns=\"jurisdicción\").corr()\n",
    "plt.figure(figsize=(6,5))\n",
    "sns.heatmap(corr_mat, annot=True, fmt=\".2f\", cmap=\"coolwarm\")\n",
    "plt.title(\"Correlación entre variables anuales por jurisdicción\")\n",
    "plt.tight_layout()\n",
    "plt.show()\n"
   ]
  },
  {
   "cell_type": "code",
   "execution_count": null,
   "id": "88b3075f",
   "metadata": {},
   "outputs": [],
   "source": [
    "# Melt con columnas ya filtradas por año (definidas antes)\n",
    "focos_largo = focos.melt(id_vars=\"jurisdicción\", value_vars=cols_focos, var_name=\"año\", value_name=\"cantidad_focos\")\n",
    "focos_largo[\"año\"] = focos_largo[\"año\"].apply(lambda x: int(re.search(r\"\\d{4}\", x).group()))\n",
    "\n",
    "incendios_largo = incendios.melt(id_vars=\"jurisdicción\", value_vars=cols_inc, var_name=\"año\", value_name=\"cantidad_incendios\")\n",
    "incendios_largo[\"año\"] = incendios_largo[\"año\"].apply(lambda x: int(re.search(r\"\\d{4}\", x).group()))\n",
    "\n",
    "superficie_largo = superficie_abs.melt(id_vars=\"jurisdicción\", value_vars=cols_sup, var_name=\"año\", value_name=\"superficie_afectada\")\n",
    "superficie_largo[\"año\"] = superficie_largo[\"año\"].apply(lambda x: int(re.search(r\"\\d{4}\", x).group()))\n"
   ]
  },
  {
   "cell_type": "code",
   "execution_count": null,
   "id": "d4e5068b",
   "metadata": {},
   "outputs": [],
   "source": [
    "df_ja = focos_largo.merge(incendios_largo, on=[\"jurisdicción\",\"año\"], how=\"inner\") \\\n",
    "                   .merge(superficie_largo, on=[\"jurisdicción\",\"año\"], how=\"inner\") \\\n",
    "                   .merge(poblacion[[\"jurisdicción\",\"prom_densidad_hab_km2\"]], on=\"jurisdicción\", how=\"left\")\n",
    "df_ja = df_ja.dropna(subset=[\"cantidad_focos\",\"cantidad_incendios\",\"superficie_afectada\",\"prom_densidad_hab_km2\"])\n"
   ]
  },
  {
   "cell_type": "code",
   "execution_count": null,
   "id": "3710ff21",
   "metadata": {},
   "outputs": [],
   "source": [
    "corr_mat2 = df_ja[[\"cantidad_focos\",\"cantidad_incendios\",\"superficie_afectada\",\"prom_densidad_hab_km2\"]].corr()\n",
    "sns.heatmap(corr_mat2, annot=True, fmt=\".2f\", cmap=\"coolwarm\")\n",
    "plt.title(\"Correlación nivel jurisdicción-año\")\n",
    "plt.show()\n"
   ]
  },
  {
   "cell_type": "markdown",
   "id": "501a166c",
   "metadata": {},
   "source": [
    "# Visualización estacional de incendios\n",
    "* Objetivo: detectar meses con mayor promedio de incendios y patrones de estacionalidad."
   ]
  },
  {
   "cell_type": "markdown",
   "id": "182ed35a",
   "metadata": {},
   "source": [
    "### Enfoque Estacional Nacional"
   ]
  },
  {
   "cell_type": "code",
   "execution_count": null,
   "id": "e976000b",
   "metadata": {},
   "outputs": [],
   "source": [
    "#Convertir a formato largo\n",
    "df_inc_nac = incendios_mes.melt(id_vars=\"mes\", value_vars=cols_inc_mes, var_name=\"año\", value_name=\"cantidad\")\n",
    "\n",
    "#Normalizar mes\n",
    "\n",
    "df_inc_nac[\"mes\"] = df_inc_nac[\"mes\"].str.lower()"
   ]
  },
  {
   "cell_type": "code",
   "execution_count": null,
   "id": "c52c9f50",
   "metadata": {},
   "outputs": [],
   "source": [
    "#Promedio mensual nacional\n",
    "prom_nacional = df_inc_nac.groupby(\"mes\")[\"cantidad\"].mean().reindex(orden_meses).reset_index()\n",
    "\n",
    "#Grafico de barras\n",
    "plt.figure(figsize=(10, 5))\n",
    "sns.barplot(data=prom_nacional, x=\"mes\", y=\"cantidad\")\n",
    "plt.title(\"Promedio mensual nacional de incendios (2017–2024)\")\n",
    "plt.xticks(rotation=45)\n",
    "plt.ylabel(\"Cantidad promedio\")\n",
    "plt.xlabel(\"Mes\")\n",
    "plt.tight_layout()\n",
    "plt.show()"
   ]
  },
  {
   "cell_type": "markdown",
   "id": "75893ace",
   "metadata": {},
   "source": [
    "### Enfoque Estacional Provincial (Proxy)"
   ]
  },
  {
   "cell_type": "code",
   "execution_count": null,
   "id": "cdc63ac9",
   "metadata": {},
   "outputs": [],
   "source": [
    "#Convertir a formato largo\n",
    "df_focos_largo = focos_mes.melt(id_vars=[\"jurisdicción\",\"año\"], value_vars=cols_focos_mes,var_name=\"mes\",value_name=\"cantidad_focos\")\n",
    "\n",
    "#Normalizar nombres de provincias \n",
    "df_focos_largo = normalizar_jurisdicciones(df_focos_largo)\n",
    "\n",
    "df_focos_largo[\"mes\"] = df_focos_largo[\"mes\"].str.lower()"
   ]
  },
  {
   "cell_type": "code",
   "execution_count": null,
   "id": "4478a2d4",
   "metadata": {},
   "outputs": [],
   "source": [
    "# Promedio mensual por jurisdicción\n",
    "prom_focos_jur = (\n",
    "    df_focos_largo.groupby([\"jurisdicción\", \"mes\"])[\"cantidad_focos\"]\n",
    "    .mean()\n",
    "    .reset_index()\n",
    ")\n",
    "\n",
    "# Ordenar meses para visualización\n",
    "prom_focos_jur[\"mes\"] = pd.Categorical(prom_focos_jur[\"mes\"], categories=orden_meses, ordered=True)\n",
    "prom_focos_jur = prom_focos_jur.sort_values([\"jurisdicción\", \"mes\"])\n"
   ]
  },
  {
   "cell_type": "markdown",
   "id": "c57320c5",
   "metadata": {},
   "source": [
    "! Ayuda de interpretacion: Por no contar con el dataset apropiado ( incendios por mes por jurisdiccion) y teniendo en cuenta que la correlacion\n",
    "de incendios con focos es baja aprox -0.20, este analisis debe ser tratado con cuidado, ya que los valores pueden no ser representativos y solo sirven como una aproximacion."
   ]
  },
  {
   "cell_type": "code",
   "execution_count": null,
   "id": "66b25309",
   "metadata": {},
   "outputs": [],
   "source": [
    "# Gráfico múltiple: estacionalidad por provincia (proxy)\n",
    "g = sns.FacetGrid(prom_focos_jur, col=\"jurisdicción\", col_wrap=4, height=3.5, sharey=False)\n",
    "g.map(sns.barplot, \"mes\", \"cantidad_focos\", order=orden_meses)\n",
    "g.set_titles(\"{col_name}\")\n",
    "g.set_xticklabels(rotation=45)\n",
    "g.figure.suptitle(\"Estacionalidad de focos de calor por jurisdicción (proxy de incendios)\", y=1.02)\n",
    "plt.tight_layout()\n",
    "plt.show()\n"
   ]
  },
  {
   "cell_type": "code",
   "execution_count": null,
   "id": "be5d4ebd",
   "metadata": {},
   "outputs": [],
   "source": [
    "# Mes con mayor promedio por jurisdicción (10 más altos)\n",
    "mes_max_focos = (\n",
    "    prom_focos_jur.loc[prom_focos_jur.groupby(\"jurisdicción\")[\"cantidad_focos\"].idxmax()]\n",
    "    .sort_values(\"cantidad_focos\", ascending=False)\n",
    "    .reset_index(drop=True)\n",
    ")\n",
    "\n",
    "mes_max_focos.rename(columns={\"mes\": \"mes_pico\", \"cantidad_focos\": \"focos_promedio_max\"}, inplace=True)\n",
    "mes_max_focos.head(10)\n"
   ]
  },
  {
   "cell_type": "code",
   "execution_count": null,
   "id": "96db42e9",
   "metadata": {},
   "outputs": [],
   "source": [
    "# Obtener top 3 meses con más focos promedio por provincia\n",
    "top3_focos = (\n",
    "    prom_focos_jur.sort_values([\"jurisdicción\", \"cantidad_focos\"], ascending=[True, False])\n",
    "    .groupby(\"jurisdicción\")\n",
    "    .head(3)\n",
    "    .reset_index(drop=True)\n",
    ")\n",
    "\n",
    "# Mostrar ejemplo\n",
    "top3_focos.head(9)\n"
   ]
  },
  {
   "cell_type": "markdown",
   "id": "a1752af4",
   "metadata": {},
   "source": [
    "# Preparacion Para Machine Learning"
   ]
  }
 ],
 "metadata": {
  "kernelspec": {
   "display_name": "Python 3",
   "language": "python",
   "name": "python3"
  },
  "language_info": {
   "codemirror_mode": {
    "name": "ipython",
    "version": 3
   },
   "file_extension": ".py",
   "mimetype": "text/x-python",
   "name": "python",
   "nbconvert_exporter": "python",
   "pygments_lexer": "ipython3",
   "version": "3.13.3"
  }
 },
 "nbformat": 4,
 "nbformat_minor": 5
}
