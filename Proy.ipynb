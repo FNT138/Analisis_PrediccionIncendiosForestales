{
 "cells": [
  {
   "cell_type": "markdown",
   "id": "65d6fd01",
   "metadata": {},
   "source": [
    "# Limpieza inicial de las tablas"
   ]
  },
  {
   "cell_type": "code",
   "execution_count": null,
   "id": "776c0264",
   "metadata": {},
   "outputs": [],
   "source": [
    "import pandas as pd\n",
    "import numpy as np\n",
    "\n",
    "# ---------------------------\n",
    "# FUNCIONES AUXILIARES\n",
    "# ---------------------------\n",
    "def limpiar_dataframe(df):\n",
    "    \"\"\"Estandariza nombres de columnas y reemplaza valores nulos o inválidos.\"\"\"\n",
    "    df.columns = [str(col).strip().lower().replace(\" \", \"_\") for col in df.columns]\n",
    "    df.replace([\"s/d\", \"S/D\", \"-\", \"\", \" \"], np.nan, inplace=True)\n",
    "    return df\n",
    "\n",
    "def convertir_a_numerico(df, columnas_excluidas=[]):\n",
    "    for col in df.columns:\n",
    "        if col not in columnas_excluidas:\n",
    "            df[col] = pd.to_numeric(df[col], errors='coerce')\n",
    "    return df\n",
    "\n",
    "# ---------------------------\n",
    "# CARGA DE DATOS\n",
    "# ---------------------------\n",
    "\n",
    "# 1. Focos de calor por jurisdicción y año\n",
    "focos = pd.read_excel(r\"datasets\\Cantidad de focos de calor registrados por jurisdicción y año.xlsx\")\n",
    "focos = limpiar_dataframe(focos)\n",
    "focos = convertir_a_numerico(focos, columnas_excluidas=[\"jurisdicción\"])\n",
    "\n",
    "# 2. Incendios por mes\n",
    "incendios = pd.read_excel(r\"datasets\\Cantidad de incendios reportados por mes.xlsx\")\n",
    "incendios = limpiar_dataframe(incendios)\n",
    "incendios = convertir_a_numerico(incendios, columnas_excluidas=[\"jurisdicción\", \"año\"])\n",
    "\n",
    "# 3. Estadísticas normales (múltiples hojas)\n",
    "estadisticas = pd.read_excel(r\"datasets\\Estadísticas normales Datos abiertos 1991-2020- TODAS HOJAS.xlsx\", sheet_name=None)\n",
    "estadisticas_limpias = {}\n",
    "for hoja, df in estadisticas.items():\n",
    "    df = limpiar_dataframe(df)\n",
    "    df = convertir_a_numerico(df)\n",
    "    estadisticas_limpias[hoja] = df\n",
    "\n",
    "# 4. Densidad de población por cuenca\n",
    "poblacion = pd.read_excel(r\"datasets\\Densidad de población por cuenca.xlsx\")\n",
    "poblacion = limpiar_dataframe(poblacion)\n",
    "poblacion = convertir_a_numerico(poblacion, columnas_excluidas=[\"cuenca\"])\n",
    "\n",
    "# 5. Superficie afectada\n",
    "superficie_abs = pd.read_excel(r\"datasets\\Superficie afectada por incendios reportados, por jurisdicción.xlsx\", sheet_name=\"rii_c_hectareas_incendios_prov_\")\n",
    "superficie_pct = pd.read_excel(r\"datasets\\Superficie afectada por incendios reportados, por jurisdicción.xlsx\", sheet_name=\"Porcentaje de superficie afecta\")\n",
    "\n",
    "superficie_abs = limpiar_dataframe(superficie_abs)\n",
    "superficie_abs = convertir_a_numerico(superficie_abs, columnas_excluidas=[\"jurisdicción\"])\n",
    "\n",
    "superficie_pct = limpiar_dataframe(superficie_pct)\n",
    "superficie_pct[\"%_suma_de_hectareas\"] = pd.to_numeric(superficie_pct[\"%_suma_de_hectareas\"], errors='coerce')\n",
    "\n",
    "# 6. Supertabla\n",
    "supertabla = pd.read_excel(r\"datasets\\Supertabla.xlsx\", sheet_name=None)\n",
    "df1 = limpiar_dataframe(supertabla['hoja1'])\n",
    "df2 = limpiar_dataframe(supertabla['hoja2'])\n",
    "\n",
    "df1 = convertir_a_numerico(df1, columnas_excluidas=[\"jurisdicción\"])\n",
    "df2 = convertir_a_numerico(df2, columnas_excluidas=[\"jurisdicción\", \"combustible\"])\n",
    "\n",
    "# ---------------------------\n",
    "# REVISIÓN POST-LIMPIEZA\n",
    "# ---------------------------\n",
    "print(\"✔ Limpieza completada.\")\n",
    "print(\"Dimensiones focos:\", focos.shape)\n",
    "print(\"Dimensiones incendios:\", incendios.shape)\n",
    "print(\"Dimensiones población:\", poblacion.shape)\n",
    "print(\"Dimensiones superficie afectada:\", superficie_abs.shape)\n",
    "print(\"Dimensiones supertabla_1:\", df1.shape)\n",
    "print(\"Dimensiones supertabla_2:\", df2.shape)\n"
   ]
  },
  {
   "cell_type": "markdown",
   "id": "f5fae26f",
   "metadata": {},
   "source": [
    "# Analisis exploratorio de los Datos"
   ]
  },
  {
   "cell_type": "code",
   "execution_count": null,
   "id": "8f44deee",
   "metadata": {},
   "outputs": [],
   "source": [
    "import matplotlib.pyplot as plt\n",
    "import seaborn as sns\n",
    "\n",
    "sns.set_theme(style=\"whitegrid\")  # estilo limpio\n",
    "plt.rcParams[\"figure.figsize\"] = (10, 6)"
   ]
  },
  {
   "cell_type": "markdown",
   "id": "2c3667cd",
   "metadata": {},
   "source": [
    "### Distribucion de focos de calor por jurisdiccion ( En promedio )"
   ]
  },
  {
   "cell_type": "code",
   "execution_count": null,
   "id": "ae10d014",
   "metadata": {},
   "outputs": [],
   "source": [
    "promedio_anios = focos.columns[-1]\n",
    "focos_ultimo = focos[[\"jurisdicción\", promedio_anios]].sort_values(by=promedio_anios, ascending=False)\n",
    "\n",
    "plt.figure()\n",
    "sns.barplot(data=focos_ultimo, x=promedio_anios, y=\"jurisdicción\", palette=\"Reds_r\")\n",
    "plt.title(f\"Focos de calor por jurisdicción - {promedio_anios}\")\n",
    "plt.xlabel(\"Cantidad de focos\")\n",
    "plt.ylabel(\"Jurisdicción\")\n",
    "plt.tight_layout()\n",
    "plt.show()\n"
   ]
  },
  {
   "cell_type": "markdown",
   "id": "e490bf87",
   "metadata": {},
   "source": [
    "###  Evolución temporal de focos de calor a nivel nacional"
   ]
  },
  {
   "cell_type": "code",
   "execution_count": null,
   "id": "f2654215",
   "metadata": {},
   "outputs": [],
   "source": [
    "# Excluimos la columna \"jurisdicción\" y la última columna del DataFrame\n",
    "columnas_a_sumar = focos.columns[1:-1]  # Seleccionamos todas las columnas excepto la primera (\"jurisdicción\") y la última(\"Promedio\")\n",
    "\n",
    "# Sumamos únicamente las columnas numéricas de los años\n",
    "focos_anual = (\n",
    "    focos[columnas_a_sumar]  # Nos quedamos solo con las columnas correspondientes a años\n",
    "    .sum()  # Sumamos los valores por cada año\n",
    "    .reset_index()  # Convertimos el índice a columna para reestructurar el DataFrame\n",
    ")\n",
    "\n",
    "# Renombramos las columnas\n",
    "focos_anual.columns = [\"año\", \"total_focos\"]\n",
    "\n",
    "# Quitamos el prefijo \"año_\" en caso de que los nombres contengan este prefijo\n",
    "focos_anual[\"año\"] = focos_anual[\"año\"].str.replace(\"año_\", \"\").astype(int)\n",
    "\n",
    "# Visualizamos los resultados con Seaborn\n",
    "plt.figure()\n",
    "sns.lineplot(data=focos_anual, x=\"año\", y=\"total_focos\", marker=\"o\", color=\"orangered\")\n",
    "plt.title(\"Evolución anual de focos de calor\")\n",
    "plt.xlabel(\"Año\")\n",
    "plt.ylabel(\"Total de focos de calor\")\n",
    "plt.xticks(rotation=45)\n",
    "plt.tight_layout()\n",
    "plt.show()"
   ]
  },
  {
   "cell_type": "markdown",
   "id": "a172c8f0",
   "metadata": {},
   "source": [
    "### Superficie afectada promedio por jurisdicción"
   ]
  },
  {
   "cell_type": "code",
   "execution_count": null,
   "id": "a572e4c8",
   "metadata": {},
   "outputs": [],
   "source": [
    "# Verificamos las columnas\n",
    "columnas_a_promediar = superficie_abs.columns[1:-1]  # Excluimos la primera columna (jurisdicción) y la última (promedio)\n",
    "\n",
    "# Calculamos de nuevo el promedio de superficie afectada por jurisdicción (si es necesario)\n",
    "superficie_abs[\"promedio\"] = superficie_abs[columnas_a_promediar].mean(axis=1)\n",
    "\n",
    "# Seleccionamos la columna 'promedio' para el gráfico\n",
    "superficie_media = (\n",
    "    superficie_abs.set_index(\"jurisdicción\")[\"promedio\"]  # Usamos la columna promedio\n",
    "    .sort_values(ascending=False)  # Ordenamos de mayor a menor\n",
    ")\n",
    "\n",
    "# Graficamos\n",
    "plt.figure(figsize=(10, 6))\n",
    "sns.barplot(x=superficie_media.values, y=superficie_media.index, palette=\"YlOrBr\")\n",
    "plt.title(\"Promedio de superficie afectada por jurisdicción (ha)\")\n",
    "plt.xlabel(\"Hectáreas promedio\")\n",
    "plt.ylabel(\"Jurisdicción\")\n",
    "plt.tight_layout()\n",
    "plt.show()"
   ]
  }
 ],
 "metadata": {
  "kernelspec": {
   "display_name": "Python 3",
   "language": "python",
   "name": "python3"
  },
  "language_info": {
   "codemirror_mode": {
    "name": "ipython",
    "version": 3
   },
   "file_extension": ".py",
   "mimetype": "text/x-python",
   "name": "python",
   "nbconvert_exporter": "python",
   "pygments_lexer": "ipython3",
   "version": "3.13.3"
  }
 },
 "nbformat": 4,
 "nbformat_minor": 5
}
